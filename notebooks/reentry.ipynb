{
 "cells": [
  {
   "cell_type": "code",
   "execution_count": null,
   "metadata": {},
   "outputs": [],
   "source": [
    "import reentry1\n"
   ]
  },
  {
   "cell_type": "code",
   "execution_count": null,
   "metadata": {},
   "outputs": [],
   "source": [
    "def ballistic_example(mission=\"beta_study\", plot_units=\"imperial\"):\n",
    "    if mission == \"mercury_parachute\":\n",
    "        W = 2662.8  + 2* 80 + 3*103 # lbf\n",
    "        L_ref = 6.2 #ft\n",
    "        A_ref = 30.27 # ft^2 \n",
    "        Cd = 1.60\n",
    "        R_nose = 1.0 # ft\n",
    "        imperial_initial_conditions = [23_000, 1.5, 0.0, 0.0] # [V_ini [ft], gamma_ini[deg], time_ini, range_ini]\n",
    "        imperial_altitude = 250_000.0 # ft\n",
    "        spacecraft = Spacecraft(W, A_ref, R_nose, L_ref, Cd, Cl=None, \n",
    "                                parachute=True, imperial_units=True, beta_study=False)   # spacecraft Class stores specs and handles unit conversions\n",
    "        betas = Pa2lbfsqf(spacecraft.beta)\n",
    "        print(\"Drogue Area\", ft2m(ft2m(2* (23/2.2/2)**2*pi))) # ft^2 m^2)\n",
    "        print(\"main area\" , ft2m(ft2m(3* (116/2.2/2)**2 * pi))) \n",
    "\n",
    "    if mission == \"mercury\":\n",
    "        W = 2662.8  # lbf\n",
    "        L_ref = 6.2 #ft\n",
    "        A_ref = 30.27 # ft^2 \n",
    "        Cd = 1.60\n",
    "        R_nose = 1.0 # ft\n",
    "        imperial_initial_conditions = [23_000, 1.5, 0.0, 0.0] # [V_ini [ft], gamma_ini[deg], time_ini, range_ini]\n",
    "        imperial_altitude = 250_000.0 # ft\n",
    "        spacecraft = Spacecraft(W, A_ref, R_nose, L_ref, Cd, Cl=None, \n",
    "                                parachute=False, imperial_units=True, beta_study=False)   # spacecraft Class stores specs and handles unit conversions\n",
    "        betas = Pa2lbfsqf(spacecraft.beta)\n",
    "\n",
    "    elif mission == \"beta_study\":\n",
    "        betas =  [100, 500, 1000, 5000]  # lbf/ft^2\n",
    "        imperial_initial_conditions = [22_500, 12.0, 0.0, 0.0] # [V_ini [ft], gamma_ini[deg], time_ini, range_ini]\n",
    "        imperial_altitude = 250_000.0 # ft\n",
    "        spacecraft = Spacecraft(beta_study=True, L_ref=1.0, R_nose = 1.0, imperial_units=True)\n",
    "\n",
    "    run_ballistic_simulation(betas=betas, \n",
    "                            initial_conditions=imperial_initial_conditions,\n",
    "                            altitude=imperial_altitude, spacecraft=spacecraft,\n",
    "                            input_units=\"imperial\",\n",
    "                                 plot_units=plot_units)\n",
    "\n",
    "def lifting_example():\n",
    "\n",
    "    W = 200_000 # lbf\n",
    "    A_ref = 2690 # ft^2 m^2\n",
    "    L_ref = 107.5 # ft\n",
    "    R_nose = 1.0  # ft\n",
    "    Cd = 0.84\n",
    "    Cl = 0.84\n",
    "    spacecraft = Spacecraft(W, A_ref, R_nose, L_ref, Cd, Cl, \n",
    "                                parachute=False, imperial_units=True, beta_study=False )\n",
    "\n",
    "    beta = Pa2lbfsqf(spacecraft.beta)\n",
    "\n",
    "    altitude = 250_000\n",
    "    V_0= 23_000.0\n",
    "    gamma_0s= [0.1, 1.0, 2.5]\n",
    "    time_lapse = 1500 # 1300 LSODA\n",
    "    run_lifting_simulation( beta=beta,\n",
    "                     V_0=V_0, gamma_0s=gamma_0s,  \n",
    "                     altitude=altitude, c_L=Cl, c_D=Cd, time_elapsed=time_lapse,\n",
    "                     spacecraft=spacecraft,\n",
    "                     input_units=\"imperial\", solver=\"RK45\")\n",
    "\n",
    "\n",
    "\n"
   ]
  },
  {
   "cell_type": "code",
   "execution_count": null,
   "metadata": {},
   "outputs": [],
   "source": [
    "# RUNN WIDGETS\n",
    "\n",
    "\n",
    "# ballistic_example(\"mercury_parachute\")\n",
    "# ballistic_example(\"mercury\")\n",
    "ballistic_example(\"beta_study\", plot_units=\"metric\")\n",
    "# lifting_example()\n"
   ]
  }
 ],
 "metadata": {
  "language_info": {
   "codemirror_mode": {
    "name": "ipython",
    "version": 3
   },
   "file_extension": ".py",
   "mimetype": "text/x-python",
   "name": "python",
   "nbconvert_exporter": "python",
   "pygments_lexer": "ipython3",
   "version": 3
  },
  "orig_nbformat": 2
 },
 "nbformat": 4,
 "nbformat_minor": 2
}