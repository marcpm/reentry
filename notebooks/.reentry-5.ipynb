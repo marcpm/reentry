{
 "cells": [
  {
   "cell_type": "code",
   "execution_count": 12,
   "metadata": {},
   "outputs": [],
   "source": [
    "import logging\n",
    "logging.getLogger().setLevel(logging.CRITICAL)\n",
    "from reentry1.ballistic import run_ballistic_simulation\n",
    "from reentry1.base import  ft2m, lbfsqf2Nsqm, Pa2lbfsqf, Spacecraft\n",
    "from reentry1.lifting import run_lifting_simulation\n",
    "from math import pi\n",
    "import numpy as np\n",
    "import matplotlib.pyplot as plt\n",
    "import ipywidgets as widgets\n",
    "from IPython.display import display\n",
    "\n",
    "plt.style.use('classic')\n",
    "font = {'family' : 'monospace',\n",
    "        'weight' : 'regular',\n",
    "        'size'   : 13}\n",
    "\n",
    "plt.rc('font', **font) \n",
    "plt.rc('legend',fontsize=13)\n",
    "\n",
    "%matplotlib inline\n",
    "plt.rcParams['figure.figsize'] = (20.0, 10.0)\n",
    "# fig.canvas.layout.width = '100%'\n",
    "# fig.canvas.layout.height = '900px'"
   ]
  },
  {
   "cell_type": "code",
   "execution_count": 13,
   "metadata": {},
   "outputs": [],
   "source": [
    "# from IPython.core.display import display, HTML\n",
    "# display(HTML(\"<style>div.output_scroll { height: 44em; }</style>\"))"
   ]
  },
  {
   "cell_type": "markdown",
   "metadata": {},
   "source": [
    "# Ballistic Re-entry"
   ]
  },
  {
   "cell_type": "markdown",
   "metadata": {},
   "source": [
    "A continuació es proveixen varies opcions per estudis de re-entrada balística. \n",
    "Sel•leccionant la \"missió\" custom, es poden establir tots els parametres del vehicle de reentrada i les condicions inicials. Les varies opcions referents a \"beta study\" es refereixen a produir gràfics simultanis per a diferents valors de beta, del coeficient balístic com es mostrava a la Figura 1 del paper d'Adams.\n",
    "\n",
    "\n",
    "Tots els gràfics es produeixen a partir de les solucions de velocitat, $\\gamma$, temps, range, provinents de l'integració numérica respecte de l'altitud, de les següents equacions de trajectòria balística:\n",
    "\n",
    "\n",
    "$$  \\frac{d V}{d h}=\\frac{g\\left[\\frac{Q}{\\beta}-\\sin (\\gamma)\\right]}{V \\sin (\\gamma)} \\\\ $$\n",
    "$$ \\frac{d \\gamma}{d h}=\\frac{\\cos (\\gamma)\\left[-g+\\frac{V^{2}}{R_{e}+h}\\right]}{V^{2} \\sin (\\gamma)} \\\\ $$\n",
    "$$ \\frac{d t}{d h}=\\frac{-1}{V \\sin (\\gamma)} \\\\ $$\n",
    "$$ \\frac{d r}{d h}=R_{e} \\frac{d t}{d h}=\\frac{d t}{d h}=\\frac{-R_{e} \\cos (\\gamma)}{\\left(R_{e}+h\\right) \\sin (\\gamma)} \\\\ $$\n",
    "\n",
    "\n",
    "\n",
    "\n",
    "- *beta_study* sense cao canvi de paramàmetres, per defecte executa i grafica els plots de la Figura 1 del paper\n",
    "- *mercury* sense cao canvi de paramàmetres, per defecte executa i grafica els plots de la Figura 2 del paper.\n",
    "- *custom* permet realitzar figures similars a les del paper amb total llibertat de paràmetres. \n",
    "- opcions *parachute* es refereixen a afegir una aproximació de sistema de paracaigudes de la càpsula Orion scalat a les dimensions de la càpsula Mercury. Veure Memòria per més referencia.\n",
    "\n",
    "\n",
    "\n"
   ]
  },
  {
   "cell_type": "code",
   "execution_count": 14,
   "metadata": {
    "scrolled": false
   },
   "outputs": [
    {
     "data": {
      "application/vnd.jupyter.widget-view+json": {
       "model_id": "a18d9d589788417f8ebd0fba844623b9",
       "version_major": 2,
       "version_minor": 0
      },
      "text/plain": [
       "interactive(children=(Dropdown(description='mission', options=('custom', 'beta_study', 'mercury', 'mercury_par…"
      ]
     },
     "metadata": {},
     "output_type": "display_data"
    }
   ],
   "source": [
    "widgets.interact_manual.opts['manual_name'] = 'Run Simulation'\n",
    "\n",
    "\n",
    "\n",
    "@widgets.interact_manual(betas= widgets.FloatRangeSlider(\n",
    "    value=[100., 500.],\n",
    "    min=30, max=6000, step=10,\n",
    "    disabled=False,\n",
    "    description='Betas:',\n",
    "    readout_format='.1f',\n",
    "    ), betastudy=widgets.Checkbox(\n",
    "    value=None,\n",
    "    description='Custom Beta study',\n",
    "    disabled=False,\n",
    "    indent=True\n",
    ")\n",
    ")\n",
    "def ballistic_example( mission=[\"custom\",\"beta_study\",\"mercury\", \"mercury_parachute\" ],custom_betastudy=False,  \n",
    "                      input_units=[\"imperial\", \"metric\"],plot_units=[\"imperial\", \"metric\"], \n",
    "                      betas=500, W=2662.8, L_ref=6.2, A_ref=30.27, Cd=1.60, \n",
    "                      R_nose=1.0, V_0=22500.0, gamma_0=1.5, altitude=250000.0, orion_parachute=False,):\n",
    "\n",
    "\n",
    "    if mission == \"mercury_parachute\":\n",
    "        input_units = \"imperial\"\n",
    "        W = 2662.8  + 2* 80 + 3*103 # lbf\n",
    "        L_ref = 6.2 #ft\n",
    "        A_ref = 30.27 # ft^2 \n",
    "        Cd = 1.60\n",
    "        R_nose = 1.0 # ft\n",
    "        initial_conditions = [23_000, 1.5, 0.0, 0.0] # [V_ini [ft], gamma_ini[deg], time_ini, range_ini]\n",
    "        altitude = 250_000.0 # ft\n",
    "        spacecraft = Spacecraft(W, A_ref, R_nose, L_ref, Cd, Cl=None, \n",
    "                                parachute=True, imperial_units=True, beta_study=False)   # spacecraft Class stores specs and handles unit conversions\n",
    "        betas = Pa2lbfsqf(spacecraft.beta)\n",
    "        print(\"Drogue Area\", ft2m(ft2m(2* (23/2.2/2)**2*pi))) # ft^2 m^2)\n",
    "        print(\"main area\" , ft2m(ft2m(3* (116/2.2/2)**2 * pi))) \n",
    "\n",
    "    elif mission == \"mercury\":\n",
    "        input_units = \"imperial\"\n",
    "        W = 2662.8  # lbf\n",
    "        L_ref = 6.2 #ft\n",
    "        A_ref = 30.27 # ft^2 \n",
    "        Cd = 1.60\n",
    "        R_nose = 1.0 # ft\n",
    "        initial_conditions = [23_000, 1.5, 0.0, 0.0] # [V_ini [ft], gamma_ini[deg], time_ini, range_ini]\n",
    "        altitude = 250_000.0 # ft\n",
    "        spacecraft = Spacecraft(W, A_ref, R_nose, L_ref, Cd, Cl=None, \n",
    "                                parachute=False, imperial_units=True, beta_study=False)   # spacecraft Class stores specs and handles unit conversions\n",
    "        betas = Pa2lbfsqf(spacecraft.beta)\n",
    "\n",
    "    elif mission == \"beta_study\":\n",
    "        input_units = \"imperial\"\n",
    "        betas =  [100, 500, 1000, 5000]  # lbf/ft^2\n",
    "        imperial_initial_conditions = [22500, 12.0, 0.0, 0.0] # [V_ini [ft], gamma_ini[deg], time_ini, range_ini]\n",
    "        imperial_altitude = 250_000.0 # ft\n",
    "        spacecraft = Spacecraft(beta_study=True, L_ref=1.0, R_nose = 1.0, imperial_units=True)\n",
    "\n",
    "    else:\n",
    "        altitude = altitude\n",
    "        initial_conditions = [V_0, gamma_0, 0.0, 0.0] \n",
    "        spacecraft = Spacecraft( W=W, A_ref=A_ref, L_ref=1.0, Cd=Cd, Cl=None, parachute=orion_parachute,\n",
    "                                R_nose = R_nose, imperial_units=(input_units==\"imperial\"))\n",
    "        \n",
    "        betas = np.linspace(betas[0],betas[1], num=4) if custom_betastudy is not False else Pa2lbfsqf(spacecraft.beta)\n",
    "\n",
    "    run_ballistic_simulation(betas=betas, \n",
    "                            initial_conditions=initial_conditions,\n",
    "                            altitude=altitude, spacecraft=spacecraft,\n",
    "                            input_units=input_units,\n",
    "                                 plot_units=plot_units)\n",
    "\n"
   ]
  },
  {
   "cell_type": "markdown",
   "metadata": {},
   "source": [
    "# Lifting Re-entry"
   ]
  },
  {
   "cell_type": "markdown",
   "metadata": {},
   "source": [
    "\n",
    "\n",
    "\n",
    "Tots els gràfics es produeixen a partir de les solucions de velocitat, $\\gamma$, temps, range, provinents de l'integració numérica de les següents equacions de trajectòria balística:\n",
    "\n",
    "\n",
    "\n",
    "$$ \\frac{d V}{d t}=g\\left[\\frac{-Q}{\\beta}+\\sin (\\gamma)\\right] \\\\$$ \n",
    "$$ \\frac{d \\gamma}{d t}=\\frac{-\\frac{Q g}{\\beta} \\frac{L}{D}+\\cos  (\\gamma)\\left[g-\\frac{V^{2}}{\\mathrm{R}_{\\mathrm{e}+h}}\\right]}{V} $$ \n",
    "$$ \\frac{d h}{d t}=-V \\sin (\\gamma) $$\n",
    "\n",
    "$$ \\frac{d r}{d t}=\\mathrm{R}_{\\mathrm{e}} \\frac{d \\theta}{d t}=\\frac{\\mathrm{R}_{\\mathrm{e}} V \\cos (\\gamma)}{\\mathrm{R}_{\\mathrm{e}}+h} $$\n",
    "\n",
    "\n",
    "\n"
   ]
  },
  {
   "cell_type": "code",
   "execution_count": 1,
   "metadata": {},
   "outputs": [
    {
     "ename": "NameError",
     "evalue": "name 'widgets' is not defined",
     "output_type": "error",
     "traceback": [
      "\u001b[0;31m---------------------------------------------------------------------------\u001b[0m",
      "\u001b[0;31mNameError\u001b[0m                                 Traceback (most recent call last)",
      "\u001b[0;32m<ipython-input-1-7f6f28944c5d>\u001b[0m in \u001b[0;36m<module>\u001b[0;34m\u001b[0m\n\u001b[0;32m----> 1\u001b[0;31m \u001b[0mwidgets\u001b[0m\u001b[0;34m.\u001b[0m\u001b[0minteract_manual\u001b[0m\u001b[0;34m.\u001b[0m\u001b[0mopts\u001b[0m\u001b[0;34m[\u001b[0m\u001b[0;34m'manual_name'\u001b[0m\u001b[0;34m]\u001b[0m \u001b[0;34m=\u001b[0m \u001b[0;34m'Run Simulation'\u001b[0m\u001b[0;34m\u001b[0m\u001b[0;34m\u001b[0m\u001b[0m\n\u001b[0m\u001b[1;32m      2\u001b[0m \u001b[0mwidgets\u001b[0m\u001b[0;34m.\u001b[0m\u001b[0minteract_manual\u001b[0m\u001b[0;34m.\u001b[0m\u001b[0mopts\u001b[0m\u001b[0;34m[\u001b[0m\u001b[0;34m\"button_color\"\u001b[0m\u001b[0;34m]\u001b[0m \u001b[0;34m=\u001b[0m \u001b[0;34m\"blue\"\u001b[0m\u001b[0;34m\u001b[0m\u001b[0;34m\u001b[0m\u001b[0m\n\u001b[1;32m      3\u001b[0m @widgets.interact_manual(gamma_0s= widgets.FloatRangeSlider(\n\u001b[1;32m      4\u001b[0m     \u001b[0mvalue\u001b[0m\u001b[0;34m=\u001b[0m\u001b[0;34m[\u001b[0m\u001b[0;36m0.5\u001b[0m\u001b[0;34m,\u001b[0m\u001b[0;36m3.0\u001b[0m\u001b[0;34m]\u001b[0m\u001b[0;34m,\u001b[0m\u001b[0;34m\u001b[0m\u001b[0;34m\u001b[0m\u001b[0m\n\u001b[1;32m      5\u001b[0m     \u001b[0mmin\u001b[0m\u001b[0;34m=\u001b[0m\u001b[0;36m0.50\u001b[0m\u001b[0;34m,\u001b[0m \u001b[0mmax\u001b[0m\u001b[0;34m=\u001b[0m\u001b[0;36m3.0\u001b[0m\u001b[0;34m,\u001b[0m \u001b[0mstep\u001b[0m\u001b[0;34m=\u001b[0m\u001b[0;36m500\u001b[0m\u001b[0;34m,\u001b[0m\u001b[0;34m\u001b[0m\u001b[0;34m\u001b[0m\u001b[0m\n",
      "\u001b[0;31mNameError\u001b[0m: name 'widgets' is not defined"
     ]
    }
   ],
   "source": [
    "widgets.interact_manual.opts['manual_name'] = 'Run Simulation'\n",
    "widgets.interact_manual.opts[\"manual_color\"] = \"blue\"\n",
    "@widgets.interact_manual(gamma_0s= widgets.FloatRangeSlider(\n",
    "    value=[0.5,3.0],\n",
    "    min=0.50, max=3.0, step=500,\n",
    "    disabled=False,\n",
    "    description='Gamma_0s:',\n",
    "    readout_format='.2f',\n",
    "    ), custom_gammastudy=widgets.Checkbox(\n",
    "    value=None,\n",
    "    description='Custom gamma study',\n",
    "    disabled=False,\n",
    "    indent=True\n",
    "))\n",
    "def lifting_example(mission=[\"custom\", \"space_shuttle\"], custom_gammastudy=False, input_units=[\"imperial\", \"metric\"], plot_units=[\"imperial\"], W=200000.0, \n",
    "                      L_ref=107.5, A_ref=2690.0, Cd=0.84, Cl=0.84,\n",
    "                      R_nose=1.0, V_0=22500.0, gamma_0s=1.5, altitude=250000.0, time_lapse=1500):\n",
    "\n",
    "    if mission == \"space_shuttle\":\n",
    "        input_units = \"imperial\"\n",
    "        W = 200_000 # lbf\n",
    "        A_ref = 2690 # ft^2 m^2\n",
    "        L_ref = 107.5 # ft\n",
    "        R_nose = 1.0  # ft\n",
    "        Cd = 0.84\n",
    "        Cl = 0.84\n",
    "        spacecraft = Spacecraft(W, A_ref, R_nose, L_ref, Cd, Cl, \n",
    "                                    parachute=False, imperial_units=True, beta_study=False )\n",
    "\n",
    "        beta = Pa2lbfsqf(spacecraft.beta)\n",
    "\n",
    "        altitude = 250_000\n",
    "        V_0= 23_000.0\n",
    "        gamma_0s= [0.1, 1.0, 2.5]\n",
    "        time_lapse = 1500 # 1300 LSODA\n",
    "        \n",
    "    else:\n",
    "        \n",
    "        spacecraft = Spacecraft( W=W, A_ref=A_ref, L_ref=1.0, Cd=Cd, Cl=None, parachute=False,\n",
    "                                R_nose = R_nose, imperial_units=(input_units==\"imperial\"))\n",
    "        beta = Pa2lbfsqf(spacecraft.beta)\n",
    "        gamma_0s = np.linspace(gamma_0s[0],gamma_0s[1], num=3) if custom_gammastudy is not False else gamma_0s\n",
    "     \n",
    "    \n",
    "    run_lifting_simulation( beta=beta,\n",
    "                     V_0=V_0, gamma_0s=gamma_0s,  \n",
    "                     altitude=altitude, c_L=Cl, c_D=Cd, time_elapsed=time_lapse,\n",
    "                     spacecraft=spacecraft,\n",
    "                     input_units=input_units, solver=\"RK45\")\n",
    "\n",
    "\n",
    "\n"
   ]
  },
  {
   "cell_type": "markdown",
   "metadata": {},
   "source": [
    "---"
   ]
  },
  {
   "cell_type": "markdown",
   "metadata": {},
   "source": [
    "# MaRV Example"
   ]
  },
  {
   "cell_type": "markdown",
   "metadata": {},
   "source": [
    "Lifting entry is a key component to flight trajectories of a Maneuverable Re-entry Vehicle (MaRV) which flies a non-ballistic trajectory to help avoid intercept by defensive systems.\n",
    "\n",
    "initial entry conditions of\n",
    "\n",
    "Altitude = 250,000 ft \n",
    "\n",
    "Velocity = 22,500 ft/sec \n",
    "\n",
    "Flight Path Angle = 12 deg\n",
    "\n",
    "- At 150,000 ft a constant L/D = 0.5 is applied to the MaRV trajectory for the remainder of the flight. \n",
    "\n",
    "- The MaRV continues along essentially a ballistic trajectory until about 70,000 ft, executes a pull-up (as lift becomes dominant over drag) to return to an altitude of about 140,000 ft, \n",
    "- Then flies basically a ballistic-like trajectory to earth impact. \n",
    "\n",
    "This maneuver allows for:  \n",
    "- range increase by a factor of about 2.5 over ballistic entry; \n",
    "-  entry time is increased from about 85 seconds for pure ballistic entry to 352 seconds. \n",
    "- Substantial reductions in deceleration g loads, dynamic pressure, dynamic energy, stagnation point pressure, stagnation point enthalpy, and stagnation point heat transfer result from the lifting trajectory."
   ]
  },
  {
   "cell_type": "code",
   "execution_count": 1,
   "metadata": {},
   "outputs": [
    {
     "ename": "NameError",
     "evalue": "name 'widgets' is not defined",
     "output_type": "error",
     "traceback": [
      "\u001b[0;31m---------------------------------------------------------------------------\u001b[0m",
      "\u001b[0;31mNameError\u001b[0m                                 Traceback (most recent call last)",
      "\u001b[0;32m<ipython-input-1-a26d7df4d21c>\u001b[0m in \u001b[0;36m<module>\u001b[0;34m\u001b[0m\n\u001b[0;32m----> 1\u001b[0;31m \u001b[0mwidgets\u001b[0m\u001b[0;34m.\u001b[0m\u001b[0minteract_manual\u001b[0m\u001b[0;34m.\u001b[0m\u001b[0mopts\u001b[0m\u001b[0;34m[\u001b[0m\u001b[0;34m'manual_name'\u001b[0m\u001b[0;34m]\u001b[0m \u001b[0;34m=\u001b[0m \u001b[0;34m'Run MaRV Simulation'\u001b[0m\u001b[0;34m\u001b[0m\u001b[0;34m\u001b[0m\u001b[0m\n\u001b[0m\u001b[1;32m      2\u001b[0m \u001b[0;34m@\u001b[0m\u001b[0mwidgets\u001b[0m\u001b[0;34m.\u001b[0m\u001b[0minteract_manual\u001b[0m\u001b[0;34m(\u001b[0m\u001b[0;34m)\u001b[0m\u001b[0;34m\u001b[0m\u001b[0;34m\u001b[0m\u001b[0m\n\u001b[1;32m      3\u001b[0m \u001b[0;32mdef\u001b[0m \u001b[0mmarv_example\u001b[0m\u001b[0;34m(\u001b[0m\u001b[0;34m)\u001b[0m\u001b[0;34m:\u001b[0m\u001b[0;34m\u001b[0m\u001b[0;34m\u001b[0m\u001b[0m\n\u001b[1;32m      4\u001b[0m     \u001b[0;31m# B61 bomb specs\u001b[0m\u001b[0;34m\u001b[0m\u001b[0;34m\u001b[0m\u001b[0;34m\u001b[0m\u001b[0m\n\u001b[1;32m      5\u001b[0m \u001b[0;34m\u001b[0m\u001b[0m\n",
      "\u001b[0;31mNameError\u001b[0m: name 'widgets' is not defined"
     ]
    }
   ],
   "source": [
    "widgets.interact_manual.opts['manual_name'] = 'Run MaRV Simulation'\n",
    "@widgets.interact_manual()\n",
    "def marv_example():\n",
    "    # B61 bomb specs\n",
    "\n",
    "    W = 700 # lbf\n",
    "    A_ref = 1.75 # ft^2 m^2\n",
    "    L_ref = 12.5 # ft\n",
    "    R_nose = 1.0  # ft\n",
    "    Cd = 0.20\n",
    "    Cl = 0.40\n",
    "    spacecraft = Spacecraft(W, A_ref, R_nose, L_ref, Cd, Cl, \n",
    "                                parachute=False, imperial_units=True, beta_study=False )\n",
    "\n",
    "    # beta = Pa2lbfsqf(spacecraft.beta)\n",
    "    beta = 1000.0 #lbfsqf\n",
    "\n",
    "    altitude = 250_000\n",
    "    V_0= 22_500.0\n",
    "    gamma_0s= [12]\n",
    "    time_lapse = 400 # 1300 LSODA\n",
    "    run_lifting_simulation( beta=beta,\n",
    "                     V_0=V_0, gamma_0s=gamma_0s,  \n",
    "                     altitude=altitude, c_L=Cl, c_D=Cd, time_elapsed=time_lapse,\n",
    "                     spacecraft=spacecraft,\n",
    "                     input_units=\"imperial\", solver=\"RK45\", marv=True)\n",
    "\n"
   ]
  },
  {
   "cell_type": "code",
   "execution_count": null,
   "metadata": {},
   "outputs": [],
   "source": []
  }
 ],
 "metadata": {
  "kernelspec": {
   "display_name": "Python 3.7.4 64-bit ('orbital': virtualenv)",
   "language": "python",
   "name": "python37464bitorbitalvirtualenva2e0cfba1ec14029b989bb029e5ee3c1"
  },
  "language_info": {
   "codemirror_mode": {
    "name": "ipython",
    "version": 3
   },
   "file_extension": ".py",
   "mimetype": "text/x-python",
   "name": "python",
   "nbconvert_exporter": "python",
   "pygments_lexer": "ipython3",
   "version": "3.7.4"
  }
 },
 "nbformat": 4,
 "nbformat_minor": 2
}
