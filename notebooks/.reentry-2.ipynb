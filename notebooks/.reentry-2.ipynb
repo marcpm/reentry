{
 "cells": [
  {
   "cell_type": "code",
   "execution_count": 12,
   "metadata": {},
   "outputs": [],
   "source": [
    "import logging\n",
    "logging.getLogger().setLevel(logging.CRITICAL)\n",
    "from reentry1.ballistic import run_ballistic_simulation\n",
    "from reentry1.base import  ft2m, lbfsqf2Nsqm, Pa2lbfsqf, Spacecraft\n",
    "from reentry1.lifting import run_lifting_simulation\n",
    "from math import pi\n",
    "import numpy as np\n",
    "import matplotlib.pyplot as plt\n",
    "import ipywidgets as widgets\n",
    "from IPython.display import display\n",
    "\n",
    "plt.style.use('classic')\n",
    "font = {'family' : 'monospace',\n",
    "        'weight' : 'regular',\n",
    "        'size'   : 13}\n",
    "\n",
    "plt.rc('font', **font) \n",
    "plt.rc('legend',fontsize=13)\n",
    "\n",
    "%matplotlib inline\n",
    "plt.rcParams['figure.figsize'] = (20.0, 10.0)\n",
    "# fig.canvas.layout.width = '100%'\n",
    "# fig.canvas.layout.height = '900px'"
   ]
  },
  {
   "cell_type": "code",
   "execution_count": 13,
   "metadata": {},
   "outputs": [],
   "source": [
    "# from IPython.core.display import display, HTML\n",
    "# display(HTML(\"<style>div.output_scroll { height: 44em; }</style>\"))"
   ]
  },
  {
   "cell_type": "markdown",
   "metadata": {},
   "source": [
    "# Ballistic Re-entry"
   ]
  },
  {
   "cell_type": "code",
   "execution_count": 25,
   "metadata": {
    "scrolled": false
   },
   "outputs": [
    {
     "data": {
      "application/vnd.jupyter.widget-view+json": {
       "model_id": "3a2ef45ed3974e249663e2b17889b0b2",
       "version_major": 2,
       "version_minor": 0
      },
      "text/plain": [
       "interactive(children=(Dropdown(description='mission', options=('custom', 'beta_study', 'mercury', 'mercury_par…"
      ]
     },
     "metadata": {},
     "output_type": "display_data"
    }
   ],
   "source": [
    "\n",
    "@widgets.interact_manual(betas= widgets.FloatRangeSlider(\n",
    "    value=[100., 500.],\n",
    "    min=30, max=6000, step=10,\n",
    "    disabled=False,\n",
    "    description='Betas:',\n",
    "    readout_format='.1f',\n",
    "    ), betastudy=widgets.Checkbox(\n",
    "    value=None,\n",
    "    description='Custom Beta study',\n",
    "    disabled=False,\n",
    "    indent=True\n",
    ")\n",
    ")\n",
    "def ballistic_example( mission=[\"custom\",\"beta_study\",\"mercury\", \"mercury_parachute\" ],custom_betastudy=False,  \n",
    "                      input_units=[\"imperial\", \"metric\"],plot_units=[\"imperial\", \"metric\"], \n",
    "                      betas=500, W=2662.8, L_ref=6.2, A_ref=30.27, Cd=1.60, \n",
    "                      R_nose=1.0, V_0=22500.0, gamma_0=1.5, altitude=250000.0, orion_parachute=False,):\n",
    "\n",
    "\n",
    "    if mission == \"mercury_parachute\":\n",
    "        input_units = \"imperial\"\n",
    "        W = 2662.8  + 2* 80 + 3*103 # lbf\n",
    "        L_ref = 6.2 #ft\n",
    "        A_ref = 30.27 # ft^2 \n",
    "        Cd = 1.60\n",
    "        R_nose = 1.0 # ft\n",
    "        initial_conditions = [23_000, 1.5, 0.0, 0.0] # [V_ini [ft], gamma_ini[deg], time_ini, range_ini]\n",
    "        altitude = 250_000.0 # ft\n",
    "        spacecraft = Spacecraft(W, A_ref, R_nose, L_ref, Cd, Cl=None, \n",
    "                                parachute=True, imperial_units=True, beta_study=False)   # spacecraft Class stores specs and handles unit conversions\n",
    "        betas = Pa2lbfsqf(spacecraft.beta)\n",
    "        print(\"Drogue Area\", ft2m(ft2m(2* (23/2.2/2)**2*pi))) # ft^2 m^2)\n",
    "        print(\"main area\" , ft2m(ft2m(3* (116/2.2/2)**2 * pi))) \n",
    "\n",
    "    elif mission == \"mercury\":\n",
    "        input_units = \"imperial\"\n",
    "        W = 2662.8  # lbf\n",
    "        L_ref = 6.2 #ft\n",
    "        A_ref = 30.27 # ft^2 \n",
    "        Cd = 1.60\n",
    "        R_nose = 1.0 # ft\n",
    "        initial_conditions = [23_000, 1.5, 0.0, 0.0] # [V_ini [ft], gamma_ini[deg], time_ini, range_ini]\n",
    "        altitude = 250_000.0 # ft\n",
    "        spacecraft = Spacecraft(W, A_ref, R_nose, L_ref, Cd, Cl=None, \n",
    "                                parachute=False, imperial_units=True, beta_study=False)   # spacecraft Class stores specs and handles unit conversions\n",
    "        betas = Pa2lbfsqf(spacecraft.beta)\n",
    "\n",
    "    elif mission == \"beta_study\":\n",
    "        input_units = \"imperial\"\n",
    "        betas =  [100, 500, 1000, 5000]  # lbf/ft^2\n",
    "        imperial_initial_conditions = [22500, 12.0, 0.0, 0.0] # [V_ini [ft], gamma_ini[deg], time_ini, range_ini]\n",
    "        imperial_altitude = 250_000.0 # ft\n",
    "        spacecraft = Spacecraft(beta_study=True, L_ref=1.0, R_nose = 1.0, imperial_units=True)\n",
    "\n",
    "    else:\n",
    "        altitude = altitude\n",
    "        initial_conditions = [V_0, gamma_0, 0.0, 0.0] \n",
    "        spacecraft = Spacecraft( W=W, A_ref=A_ref, L_ref=1.0, Cd=Cd, Cl=None, parachute=orion_parachute,\n",
    "                                R_nose = R_nose, imperial_units=(input_units==\"imperial\"))\n",
    "        \n",
    "        betas = np.linspace(betas[0],betas[1], num=4) if custom_betastudy is not False else Pa2lbfsqf(spacecraft.beta)\n",
    "\n",
    "    run_ballistic_simulation(betas=betas, \n",
    "                            initial_conditions=initial_conditions,\n",
    "                            altitude=altitude, spacecraft=spacecraft,\n",
    "                            input_units=input_units,\n",
    "                                 plot_units=plot_units)\n",
    "\n"
   ]
  },
  {
   "cell_type": "markdown",
   "metadata": {},
   "source": [
    "# Lifting Re-entry"
   ]
  },
  {
   "cell_type": "code",
   "execution_count": 5,
   "metadata": {},
   "outputs": [
    {
     "data": {
      "application/vnd.jupyter.widget-view+json": {
       "model_id": "07d06ef9747347eb9cca3cedc19d8951",
       "version_major": 2,
       "version_minor": 0
      },
      "text/plain": [
       "interactive(children=(Dropdown(description='mission', options=('custom', 'space_shuttle'), value='custom'), Dr…"
      ]
     },
     "metadata": {},
     "output_type": "display_data"
    }
   ],
   "source": [
    "@widgets.interact_manual\n",
    "def lifting_example(mission=[\"custom\", \"space_shuttle\"], input_units=[\"imperial\", \"metric\"], plot_units=[\"imperial\"], W=200000.0, \n",
    "                      L_ref=107.5, A_ref=2690.0, Cd=0.84, Cl=0.84,\n",
    "                      R_nose=1.0, V_0=22500.0, gamma_0s=1.5, altitude=250000.0, time_lapse=1500):\n",
    "\n",
    "    if mission == \"space_shuttle\":\n",
    "        input_units = \"imperial\"\n",
    "        W = 200_000 # lbf\n",
    "        A_ref = 2690 # ft^2 m^2\n",
    "        L_ref = 107.5 # ft\n",
    "        R_nose = 1.0  # ft\n",
    "        Cd = 0.84\n",
    "        Cl = 0.84\n",
    "        spacecraft = Spacecraft(W, A_ref, R_nose, L_ref, Cd, Cl, \n",
    "                                    parachute=False, imperial_units=True, beta_study=False )\n",
    "\n",
    "        beta = Pa2lbfsqf(spacecraft.beta)\n",
    "\n",
    "        altitude = 250_000\n",
    "        V_0= 23_000.0\n",
    "        gamma_0s= [0.1, 1.0, 2.5]\n",
    "        time_lapse = 1500 # 1300 LSODA\n",
    "        \n",
    "    else:\n",
    "        \n",
    "        spacecraft = Spacecraft( W=W, A_ref=A_ref, L_ref=1.0, Cd=Cd, Cl=None, parachute=False,\n",
    "                                R_nose = R_nose, imperial_units=(input_units==\"imperial\"))\n",
    "        beta = Pa2lbfsqf(spacecraft.beta)\n",
    "     \n",
    "    \n",
    "    run_lifting_simulation( beta=beta,\n",
    "                     V_0=V_0, gamma_0s=gamma_0s,  \n",
    "                     altitude=altitude, c_L=Cl, c_D=Cd, time_elapsed=time_lapse,\n",
    "                     spacecraft=spacecraft,\n",
    "                     input_units=input_units, solver=\"RK45\")\n",
    "\n",
    "\n",
    "\n"
   ]
  }
 ],
 "metadata": {
  "kernelspec": {
   "display_name": "Python 3.7.4 64-bit ('orbital': virtualenv)",
   "language": "python",
   "name": "python37464bitorbitalvirtualenva2e0cfba1ec14029b989bb029e5ee3c1"
  },
  "language_info": {
   "codemirror_mode": {
    "name": "ipython",
    "version": 3
   },
   "file_extension": ".py",
   "mimetype": "text/x-python",
   "name": "python",
   "nbconvert_exporter": "python",
   "pygments_lexer": "ipython3",
   "version": "3.7.4"
  }
 },
 "nbformat": 4,
 "nbformat_minor": 2
}
